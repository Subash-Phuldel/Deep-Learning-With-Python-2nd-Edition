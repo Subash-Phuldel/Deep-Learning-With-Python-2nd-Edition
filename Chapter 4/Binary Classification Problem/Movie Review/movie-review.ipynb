{
 "cells": [
  {
   "cell_type": "code",
   "execution_count": 1,
   "id": "22d7baa0-a891-46c5-80fd-bbc648de5257",
   "metadata": {},
   "outputs": [
    {
     "name": "stderr",
     "output_type": "stream",
     "text": [
      "2024-07-02 20:45:06.337285: I external/local_tsl/tsl/cuda/cudart_stub.cc:32] Could not find cuda drivers on your machine, GPU will not be used.\n",
      "2024-07-02 20:45:06.340684: I external/local_tsl/tsl/cuda/cudart_stub.cc:32] Could not find cuda drivers on your machine, GPU will not be used.\n",
      "2024-07-02 20:45:06.351815: E external/local_xla/xla/stream_executor/cuda/cuda_fft.cc:479] Unable to register cuFFT factory: Attempting to register factory for plugin cuFFT when one has already been registered\n",
      "2024-07-02 20:45:06.373565: E external/local_xla/xla/stream_executor/cuda/cuda_dnn.cc:10575] Unable to register cuDNN factory: Attempting to register factory for plugin cuDNN when one has already been registered\n",
      "2024-07-02 20:45:06.373610: E external/local_xla/xla/stream_executor/cuda/cuda_blas.cc:1442] Unable to register cuBLAS factory: Attempting to register factory for plugin cuBLAS when one has already been registered\n",
      "2024-07-02 20:45:06.387674: I tensorflow/core/platform/cpu_feature_guard.cc:210] This TensorFlow binary is optimized to use available CPU instructions in performance-critical operations.\n",
      "To enable the following instructions: AVX2 FMA, in other operations, rebuild TensorFlow with the appropriate compiler flags.\n",
      "2024-07-02 20:45:07.071388: W tensorflow/compiler/tf2tensorrt/utils/py_utils.cc:38] TF-TRT Warning: Could not find TensorRT\n"
     ]
    }
   ],
   "source": [
    "from tensorflow.keras.datasets import imdb\n",
    "(train_data, train_label),(test_data, test_label) = imdb.load_data(num_words=10000)"
   ]
  },
  {
   "cell_type": "code",
   "execution_count": 2,
   "id": "c5cb7238-d2c1-4d48-8aac-869733eff452",
   "metadata": {},
   "outputs": [
    {
     "data": {
      "text/plain": [
       "9999"
      ]
     },
     "execution_count": 2,
     "metadata": {},
     "output_type": "execute_result"
    }
   ],
   "source": [
    "max_length = max([max(x) for x in train_data])\n",
    "max_length"
   ]
  },
  {
   "cell_type": "code",
   "execution_count": 3,
   "id": "42e6313c-297d-4ee3-ad75-1bbf6e85d548",
   "metadata": {},
   "outputs": [],
   "source": [
    "word_dict = imdb.get_word_index()\n",
    "reverse_word_dict = dict([(value,key) for key,value in word_dict.items()])"
   ]
  },
  {
   "cell_type": "code",
   "execution_count": 4,
   "id": "c75da46e-d184-4982-992f-edefca1b3870",
   "metadata": {},
   "outputs": [],
   "source": [
    "def generate_review(n):\n",
    "    return \" \".join(reverse_word_dict.get(i-3, \"?\") for i in train_data[n])"
   ]
  },
  {
   "cell_type": "code",
   "execution_count": 5,
   "id": "620a5a87-14cf-4a24-a999-dbec774fd317",
   "metadata": {},
   "outputs": [
    {
     "data": {
      "text/plain": [
       "\"? big hair big boobs bad music and a giant safety pin these are the words to best describe this terrible movie i love cheesy horror movies and i've seen hundreds but this had got to be on of the worst ever made the plot is paper thin and ridiculous the acting is an abomination the script is completely laughable the best is the end showdown with the cop and how he worked out who the killer is it's just so damn terribly written the clothes are sickening and funny in equal ? the hair is big lots of boobs ? men wear those cut ? shirts that show off their ? sickening that men actually wore them and the music is just ? trash that plays over and over again in almost every scene there is trashy music boobs and ? taking away bodies and the gym still doesn't close for ? all joking aside this is a truly bad film whose only charm is to look back on the disaster that was the 80's and have a good old laugh at how bad everything was back then\""
      ]
     },
     "execution_count": 5,
     "metadata": {},
     "output_type": "execute_result"
    }
   ],
   "source": [
    "review = generate_review(1)\n",
    "review"
   ]
  },
  {
   "cell_type": "code",
   "execution_count": 6,
   "id": "d0318093-7895-4402-87ff-6cd973e075b5",
   "metadata": {},
   "outputs": [],
   "source": [
    "import numpy as np\n",
    "def vectorized_data(sequences):\n",
    "    result = np.zeros((len(sequences),10000))\n",
    "    for i,sequence in enumerate(sequences):\n",
    "        for j in sequence:\n",
    "            result[i,j] = 1\n",
    "\n",
    "    return result"
   ]
  },
  {
   "cell_type": "code",
   "execution_count": 7,
   "id": "da2c2499-b5c7-4853-837f-7d6a1b13c409",
   "metadata": {},
   "outputs": [],
   "source": [
    "x_train = vectorized_data(train_data)\n",
    "x_test = vectorized_data(test_data)"
   ]
  },
  {
   "cell_type": "code",
   "execution_count": 8,
   "id": "1fd3f2c1-a4a2-4003-9036-b88839d38e0f",
   "metadata": {},
   "outputs": [],
   "source": [
    "y_train = np.asarray(train_label).astype(\"float32\")\n",
    "y_test = np.asarray(test_label).astype(\"float32\")"
   ]
  },
  {
   "cell_type": "code",
   "execution_count": 9,
   "id": "afdffce0-112a-484c-a826-8646a80ee81c",
   "metadata": {},
   "outputs": [],
   "source": [
    "from tensorflow import keras\n",
    "from tensorflow.keras import layers\n",
    "\n",
    "model = keras.Sequential([\n",
    "    layers.Dense(units=32, activation=\"relu\"),\n",
    "    layers.Dense(units=32, activation=\"relu\"),\n",
    "    layers.Dense(units=1, activation=\"sigmoid\")\n",
    "])"
   ]
  },
  {
   "cell_type": "code",
   "execution_count": 10,
   "id": "ebb52e39-6239-4976-874f-634aa49e6857",
   "metadata": {},
   "outputs": [],
   "source": [
    "x_train_val = x_train[:10000,]\n",
    "x_train = x_train[10000:,]\n",
    "y_train_val = y_train[:10000,]\n",
    "y_train = y_train[10000:,]"
   ]
  },
  {
   "cell_type": "code",
   "execution_count": 11,
   "id": "2ff054c0-a3b1-47d1-a5b9-fbc80e63dbee",
   "metadata": {},
   "outputs": [
    {
     "name": "stderr",
     "output_type": "stream",
     "text": [
      "2024-07-02 20:45:13.488890: I external/local_xla/xla/stream_executor/cuda/cuda_executor.cc:998] successful NUMA node read from SysFS had negative value (-1), but there must be at least one NUMA node, so returning NUMA node zero. See more at https://github.com/torvalds/linux/blob/v6.0/Documentation/ABI/testing/sysfs-bus-pci#L344-L355\n",
      "2024-07-02 20:45:13.489376: W tensorflow/core/common_runtime/gpu/gpu_device.cc:2251] Cannot dlopen some GPU libraries. Please make sure the missing libraries mentioned above are installed properly if you would like to use GPU. Follow the guide at https://www.tensorflow.org/install/gpu for how to download and setup the required libraries for your platform.\n",
      "Skipping registering GPU devices...\n"
     ]
    }
   ],
   "source": [
    "model.compile(\n",
    "    optimizer=\"rmsprop\",\n",
    "    loss=\"binary_crossentropy\",\n",
    "    metrics=[\"accuracy\"],\n",
    ")"
   ]
  },
  {
   "cell_type": "code",
   "execution_count": 12,
   "id": "e85daf5c-c47f-4748-8233-f6dcd5f72b4e",
   "metadata": {},
   "outputs": [
    {
     "name": "stdout",
     "output_type": "stream",
     "text": [
      "Epoch 1/20\n"
     ]
    },
    {
     "name": "stderr",
     "output_type": "stream",
     "text": [
      "2024-07-02 20:45:13.878655: W external/local_tsl/tsl/framework/cpu_allocator_impl.cc:83] Allocation of 600000000 exceeds 10% of free system memory.\n"
     ]
    },
    {
     "name": "stdout",
     "output_type": "stream",
     "text": [
      "\u001b[1m30/30\u001b[0m \u001b[32m━━━━━━━━━━━━━━━━━━━━\u001b[0m\u001b[37m\u001b[0m \u001b[1m2s\u001b[0m 33ms/step - accuracy: 0.6905 - loss: 0.5912 - val_accuracy: 0.8395 - val_loss: 0.3930\n",
      "Epoch 2/20\n",
      "\u001b[1m30/30\u001b[0m \u001b[32m━━━━━━━━━━━━━━━━━━━━\u001b[0m\u001b[37m\u001b[0m \u001b[1m0s\u001b[0m 14ms/step - accuracy: 0.8887 - loss: 0.3134 - val_accuracy: 0.8786 - val_loss: 0.3084\n",
      "Epoch 3/20\n",
      "\u001b[1m30/30\u001b[0m \u001b[32m━━━━━━━━━━━━━━━━━━━━\u001b[0m\u001b[37m\u001b[0m \u001b[1m0s\u001b[0m 13ms/step - accuracy: 0.9196 - loss: 0.2271 - val_accuracy: 0.8876 - val_loss: 0.2764\n",
      "Epoch 4/20\n",
      "\u001b[1m30/30\u001b[0m \u001b[32m━━━━━━━━━━━━━━━━━━━━\u001b[0m\u001b[37m\u001b[0m \u001b[1m0s\u001b[0m 13ms/step - accuracy: 0.9374 - loss: 0.1843 - val_accuracy: 0.8553 - val_loss: 0.3630\n",
      "Epoch 5/20\n",
      "\u001b[1m30/30\u001b[0m \u001b[32m━━━━━━━━━━━━━━━━━━━━\u001b[0m\u001b[37m\u001b[0m \u001b[1m0s\u001b[0m 13ms/step - accuracy: 0.9493 - loss: 0.1521 - val_accuracy: 0.8781 - val_loss: 0.3223\n",
      "Epoch 6/20\n",
      "\u001b[1m30/30\u001b[0m \u001b[32m━━━━━━━━━━━━━━━━━━━━\u001b[0m\u001b[37m\u001b[0m \u001b[1m0s\u001b[0m 14ms/step - accuracy: 0.9588 - loss: 0.1269 - val_accuracy: 0.8770 - val_loss: 0.3364\n",
      "Epoch 7/20\n",
      "\u001b[1m30/30\u001b[0m \u001b[32m━━━━━━━━━━━━━━━━━━━━\u001b[0m\u001b[37m\u001b[0m \u001b[1m0s\u001b[0m 13ms/step - accuracy: 0.9604 - loss: 0.1147 - val_accuracy: 0.8836 - val_loss: 0.3166\n",
      "Epoch 8/20\n",
      "\u001b[1m30/30\u001b[0m \u001b[32m━━━━━━━━━━━━━━━━━━━━\u001b[0m\u001b[37m\u001b[0m \u001b[1m0s\u001b[0m 13ms/step - accuracy: 0.9745 - loss: 0.0865 - val_accuracy: 0.8673 - val_loss: 0.3757\n",
      "Epoch 9/20\n",
      "\u001b[1m30/30\u001b[0m \u001b[32m━━━━━━━━━━━━━━━━━━━━\u001b[0m\u001b[37m\u001b[0m \u001b[1m0s\u001b[0m 13ms/step - accuracy: 0.9737 - loss: 0.0832 - val_accuracy: 0.8691 - val_loss: 0.4057\n",
      "Epoch 10/20\n",
      "\u001b[1m30/30\u001b[0m \u001b[32m━━━━━━━━━━━━━━━━━━━━\u001b[0m\u001b[37m\u001b[0m \u001b[1m0s\u001b[0m 15ms/step - accuracy: 0.9821 - loss: 0.0665 - val_accuracy: 0.8750 - val_loss: 0.3778\n",
      "Epoch 11/20\n",
      "\u001b[1m30/30\u001b[0m \u001b[32m━━━━━━━━━━━━━━━━━━━━\u001b[0m\u001b[37m\u001b[0m \u001b[1m0s\u001b[0m 13ms/step - accuracy: 0.9856 - loss: 0.0547 - val_accuracy: 0.8774 - val_loss: 0.4027\n",
      "Epoch 12/20\n",
      "\u001b[1m30/30\u001b[0m \u001b[32m━━━━━━━━━━━━━━━━━━━━\u001b[0m\u001b[37m\u001b[0m \u001b[1m0s\u001b[0m 15ms/step - accuracy: 0.9907 - loss: 0.0421 - val_accuracy: 0.8624 - val_loss: 0.5103\n",
      "Epoch 13/20\n",
      "\u001b[1m30/30\u001b[0m \u001b[32m━━━━━━━━━━━━━━━━━━━━\u001b[0m\u001b[37m\u001b[0m \u001b[1m0s\u001b[0m 13ms/step - accuracy: 0.9881 - loss: 0.0443 - val_accuracy: 0.8764 - val_loss: 0.4551\n",
      "Epoch 14/20\n",
      "\u001b[1m30/30\u001b[0m \u001b[32m━━━━━━━━━━━━━━━━━━━━\u001b[0m\u001b[37m\u001b[0m \u001b[1m0s\u001b[0m 14ms/step - accuracy: 0.9937 - loss: 0.0295 - val_accuracy: 0.8727 - val_loss: 0.4867\n",
      "Epoch 15/20\n",
      "\u001b[1m30/30\u001b[0m \u001b[32m━━━━━━━━━━━━━━━━━━━━\u001b[0m\u001b[37m\u001b[0m \u001b[1m0s\u001b[0m 13ms/step - accuracy: 0.9949 - loss: 0.0245 - val_accuracy: 0.8744 - val_loss: 0.4991\n",
      "Epoch 16/20\n",
      "\u001b[1m30/30\u001b[0m \u001b[32m━━━━━━━━━━━━━━━━━━━━\u001b[0m\u001b[37m\u001b[0m \u001b[1m0s\u001b[0m 13ms/step - accuracy: 0.9983 - loss: 0.0159 - val_accuracy: 0.8731 - val_loss: 0.5237\n",
      "Epoch 17/20\n",
      "\u001b[1m30/30\u001b[0m \u001b[32m━━━━━━━━━━━━━━━━━━━━\u001b[0m\u001b[37m\u001b[0m \u001b[1m0s\u001b[0m 14ms/step - accuracy: 0.9969 - loss: 0.0171 - val_accuracy: 0.8710 - val_loss: 0.5426\n",
      "Epoch 18/20\n",
      "\u001b[1m30/30\u001b[0m \u001b[32m━━━━━━━━━━━━━━━━━━━━\u001b[0m\u001b[37m\u001b[0m \u001b[1m0s\u001b[0m 14ms/step - accuracy: 0.9996 - loss: 0.0100 - val_accuracy: 0.8701 - val_loss: 0.5741\n",
      "Epoch 19/20\n",
      "\u001b[1m30/30\u001b[0m \u001b[32m━━━━━━━━━━━━━━━━━━━━\u001b[0m\u001b[37m\u001b[0m \u001b[1m0s\u001b[0m 13ms/step - accuracy: 0.9947 - loss: 0.0199 - val_accuracy: 0.8706 - val_loss: 0.5923\n",
      "Epoch 20/20\n",
      "\u001b[1m30/30\u001b[0m \u001b[32m━━━━━━━━━━━━━━━━━━━━\u001b[0m\u001b[37m\u001b[0m \u001b[1m0s\u001b[0m 13ms/step - accuracy: 0.9998 - loss: 0.0064 - val_accuracy: 0.8406 - val_loss: 0.8016\n"
     ]
    }
   ],
   "source": [
    "history = model.fit(x_train,y_train,epochs=20, batch_size=512, validation_data=(x_train_val, y_train_val))"
   ]
  },
  {
   "cell_type": "code",
   "execution_count": 13,
   "id": "4c052d83-2eba-48af-945a-5c7e3185458b",
   "metadata": {},
   "outputs": [
    {
     "data": {
      "text/plain": [
       "dict_keys(['accuracy', 'loss', 'val_accuracy', 'val_loss'])"
      ]
     },
     "execution_count": 13,
     "metadata": {},
     "output_type": "execute_result"
    }
   ],
   "source": [
    "history_dict = history.history\n",
    "history_dict.keys()"
   ]
  },
  {
   "cell_type": "code",
   "execution_count": 14,
   "id": "a3f3bf94-462e-4050-809d-d97226a6d645",
   "metadata": {},
   "outputs": [
    {
     "data": {
      "image/png": "[encoded data removed]",
      "text/plain": [
       "<Figure size 640x480 with 1 Axes>"
      ]
     },
     "metadata": {},
     "output_type": "display_data"
    }
   ],
   "source": [
    "import matplotlib.pyplot as plt\n",
    "\n",
    "epochs = np.arange(1,21)\n",
    "plt.plot(epochs, history_dict.get(\"loss\"), \"bo\", label=\"Training_loss\")\n",
    "plt.plot(epochs, history_dict.get(\"val_loss\"),\"b\", label=\"Validation_loss\")\n",
    "plt.xlabel(\"epochs\")\n",
    "plt.ylabel(\"loss\")\n",
    "plt.legend()\n",
    "plt.title(\"Loss\")\n",
    "plt.show()"
   ]
  },
  {
   "cell_type": "code",
   "execution_count": 15,
   "id": "aa6c76eb-04c4-4416-b7fd-164c10cc7fe0",
   "metadata": {},
   "outputs": [
    {
     "data": {
      "image/png": "[encoded data removed]",
      "text/plain": [
       "<Figure size 640x480 with 1 Axes>"
      ]
     },
     "metadata": {},
     "output_type": "display_data"
    }
   ],
   "source": [
    "plt.plot(epochs, history_dict.get(\"accuracy\"), \"bo\", label=\"Training_accuracy\")\n",
    "plt.plot(epochs, history_dict.get(\"val_accuracy\"),\"b\", label=\"Validation_accuracy\")\n",
    "plt.xlabel(\"epochs\")\n",
    "plt.ylabel(\"accuracy\")\n",
    "plt.title(\"Accuracy\")\n",
    "plt.legend()\n",
    "plt.show()"
   ]
  },
  {
   "cell_type": "code",
   "execution_count": 16,
   "id": "97d178c5-c704-410d-b006-e58c2e8f9147",
   "metadata": {},
   "outputs": [
    {
     "name": "stdout",
     "output_type": "stream",
     "text": [
      "\u001b[1m 90/782\u001b[0m \u001b[32m━━\u001b[0m\u001b[37m━━━━━━━━━━━━━━━━━━\u001b[0m \u001b[1m0s\u001b[0m 1ms/step - accuracy: 0.8327 - loss: 0.8780"
     ]
    },
    {
     "name": "stderr",
     "output_type": "stream",
     "text": [
      "2024-07-02 20:45:26.102449: W external/local_tsl/tsl/framework/cpu_allocator_impl.cc:83] Allocation of 1000000000 exceeds 10% of free system memory.\n"
     ]
    },
    {
     "name": "stdout",
     "output_type": "stream",
     "text": [
      "\u001b[1m782/782\u001b[0m \u001b[32m━━━━━━━━━━━━━━━━━━━━\u001b[0m\u001b[37m\u001b[0m \u001b[1m1s\u001b[0m 1ms/step - accuracy: 0.8292 - loss: 0.8857\n"
     ]
    },
    {
     "data": {
      "text/plain": [
       "[0.8790695071220398, 0.829200029373169]"
      ]
     },
     "execution_count": 16,
     "metadata": {},
     "output_type": "execute_result"
    }
   ],
   "source": [
    "result = model.evaluate(x_test, y_test)\n",
    "result"
   ]
  },
  {
   "cell_type": "raw",
   "id": "7f794bda-87ef-4be2-8c64-b13928d39b78",
   "metadata": {},
   "source": [
    "Creating new model "
   ]
  },
  {
   "cell_type": "code",
   "execution_count": 18,
   "id": "d5e23ca9-ebd3-4c60-8fde-d8255a2ac37c",
   "metadata": {},
   "outputs": [],
   "source": [
    "model = keras.Sequential([\n",
    "    layers.Dense(units=16, activation=\"relu\"),\n",
    "    layers.Dense(units=16, activation=\"relu\"),\n",
    "    layers.Dense(units=1, activation=\"sigmoid\")\n",
    "])"
   ]
  },
  {
   "cell_type": "code",
   "execution_count": 19,
   "id": "91ad5c4f-5a0c-4024-949c-42739146716f",
   "metadata": {},
   "outputs": [],
   "source": [
    "model.compile(\n",
    "    optimizer=\"rmsprop\",\n",
    "    loss=\"binary_crossentropy\",\n",
    "    metrics=[\"accuracy\"],\n",
    ")"
   ]
  },
  {
   "cell_type": "code",
   "execution_count": 20,
   "id": "9d6f88a4-c613-4cea-a220-0217de71cf63",
   "metadata": {},
   "outputs": [
    {
     "name": "stdout",
     "output_type": "stream",
     "text": [
      "Epoch 1/4\n"
     ]
    },
    {
     "name": "stderr",
     "output_type": "stream",
     "text": [
      "2024-07-02 20:45:28.108242: W external/local_tsl/tsl/framework/cpu_allocator_impl.cc:83] Allocation of 600000000 exceeds 10% of free system memory.\n"
     ]
    },
    {
     "name": "stdout",
     "output_type": "stream",
     "text": [
      "\u001b[1m30/30\u001b[0m \u001b[32m━━━━━━━━━━━━━━━━━━━━\u001b[0m\u001b[37m\u001b[0m \u001b[1m1s\u001b[0m 30ms/step - accuracy: 0.6623 - loss: 0.6294 - val_accuracy: 0.8649 - val_loss: 0.4302\n",
      "Epoch 2/4\n",
      "\u001b[1m30/30\u001b[0m \u001b[32m━━━━━━━━━━━━━━━━━━━━\u001b[0m\u001b[37m\u001b[0m \u001b[1m0s\u001b[0m 12ms/step - accuracy: 0.8846 - loss: 0.3796 - val_accuracy: 0.8718 - val_loss: 0.3377\n",
      "Epoch 3/4\n",
      "\u001b[1m30/30\u001b[0m \u001b[32m━━━━━━━━━━━━━━━━━━━━\u001b[0m\u001b[37m\u001b[0m \u001b[1m0s\u001b[0m 11ms/step - accuracy: 0.9141 - loss: 0.2684 - val_accuracy: 0.8607 - val_loss: 0.3327\n",
      "Epoch 4/4\n",
      "\u001b[1m30/30\u001b[0m \u001b[32m━━━━━━━━━━━━━━━━━━━━\u001b[0m\u001b[37m\u001b[0m \u001b[1m0s\u001b[0m 12ms/step - accuracy: 0.9251 - loss: 0.2183 - val_accuracy: 0.8813 - val_loss: 0.2964\n"
     ]
    }
   ],
   "source": [
    "history = model.fit(x_train,y_train,epochs=4, batch_size=512, validation_data=(x_train_val, y_train_val))"
   ]
  },
  {
   "cell_type": "code",
   "execution_count": 21,
   "id": "d42a4265-0308-43b1-a1bc-7cf8e67fd5ef",
   "metadata": {},
   "outputs": [
    {
     "name": "stdout",
     "output_type": "stream",
     "text": [
      "\u001b[1m154/782\u001b[0m \u001b[32m━━━\u001b[0m\u001b[37m━━━━━━━━━━━━━━━━━\u001b[0m \u001b[1m0s\u001b[0m 994us/step - accuracy: 0.8737 - loss: 0.3012"
     ]
    },
    {
     "name": "stderr",
     "output_type": "stream",
     "text": [
      "2024-07-02 20:45:31.805315: W external/local_tsl/tsl/framework/cpu_allocator_impl.cc:83] Allocation of 1000000000 exceeds 10% of free system memory.\n"
     ]
    },
    {
     "name": "stdout",
     "output_type": "stream",
     "text": [
      "\u001b[1m782/782\u001b[0m \u001b[32m━━━━━━━━━━━━━━━━━━━━\u001b[0m\u001b[37m\u001b[0m \u001b[1m1s\u001b[0m 1ms/step - accuracy: 0.8710 - loss: 0.3140\n"
     ]
    }
   ],
   "source": [
    "result = model.evaluate(x_test, y_test)"
   ]
  },
  {
   "cell_type": "code",
   "execution_count": 22,
   "id": "cb831d89-0e05-4373-bcb0-16f3e276dcf1",
   "metadata": {},
   "outputs": [
    {
     "data": {
      "text/plain": [
       "[0.314616322517395, 0.8708800077438354]"
      ]
     },
     "execution_count": 22,
     "metadata": {},
     "output_type": "execute_result"
    }
   ],
   "source": [
    "result"
   ]
  },
  {
   "cell_type": "code",
   "execution_count": 26,
   "id": "83dd77d1-c1a6-40b9-ad78-820d5125d7b8",
   "metadata": {},
   "outputs": [
    {
     "ename": "SyntaxError",
     "evalue": "invalid syntax (2169630178.py, line 1)",
     "output_type": "error",
     "traceback": [
      "\u001b[0;36m  Cell \u001b[0;32mIn[26], line 1\u001b[0;36m\u001b[0m\n\u001b[0;31m    New Model having only 2 layer\u001b[0m\n\u001b[0m        ^\u001b[0m\n\u001b[0;31mSyntaxError\u001b[0m\u001b[0;31m:\u001b[0m invalid syntax\n"
     ]
    }
   ],
   "source": [
    "New Model having only 2 layer"
   ]
  },
  {
   "cell_type": "code",
   "execution_count": 27,
   "id": "e37fd9c4-6ebf-452b-9b30-dae02ed99a4d",
   "metadata": {},
   "outputs": [
    {
     "name": "stdout",
     "output_type": "stream",
     "text": [
      "Epoch 1/4\n",
      "\u001b[1m30/30\u001b[0m \u001b[32m━━━━━━━━━━━━━━━━━━━━\u001b[0m\u001b[37m\u001b[0m \u001b[1m1s\u001b[0m 30ms/step - accuracy: 0.6944 - loss: 0.6040 - val_accuracy: 0.8459 - val_loss: 0.4267\n",
      "Epoch 2/4\n",
      "\u001b[1m30/30\u001b[0m \u001b[32m━━━━━━━━━━━━━━━━━━━━\u001b[0m\u001b[37m\u001b[0m \u001b[1m0s\u001b[0m 13ms/step - accuracy: 0.8884 - loss: 0.3729 - val_accuracy: 0.8772 - val_loss: 0.3436\n",
      "Epoch 3/4\n",
      "\u001b[1m30/30\u001b[0m \u001b[32m━━━━━━━━━━━━━━━━━━━━\u001b[0m\u001b[37m\u001b[0m \u001b[1m0s\u001b[0m 13ms/step - accuracy: 0.9126 - loss: 0.2892 - val_accuracy: 0.8786 - val_loss: 0.3120\n",
      "Epoch 4/4\n",
      "\u001b[1m30/30\u001b[0m \u001b[32m━━━━━━━━━━━━━━━━━━━━\u001b[0m\u001b[37m\u001b[0m \u001b[1m0s\u001b[0m 13ms/step - accuracy: 0.9264 - loss: 0.2389 - val_accuracy: 0.8861 - val_loss: 0.2916\n",
      "\u001b[1m782/782\u001b[0m \u001b[32m━━━━━━━━━━━━━━━━━━━━\u001b[0m\u001b[37m\u001b[0m \u001b[1m1s\u001b[0m 1ms/step - accuracy: 0.8802 - loss: 0.3035\n"
     ]
    },
    {
     "data": {
      "text/plain": [
       "[0.30133455991744995, 0.88264000415802]"
      ]
     },
     "execution_count": 27,
     "metadata": {},
     "output_type": "execute_result"
    }
   ],
   "source": [
    "model = keras.Sequential([\n",
    "    layers.Dense(units=16, activation=\"relu\"),\n",
    "    layers.Dense(units=1, activation=\"sigmoid\")\n",
    "])\n",
    "model.compile(\n",
    "    optimizer=\"rmsprop\",\n",
    "    loss=\"binary_crossentropy\",\n",
    "    metrics=[\"accuracy\"],\n",
    ")\n",
    "history = model.fit(x_train,y_train,epochs=4, batch_size=512, validation_data=(x_train_val, y_train_val))\n",
    "result = model.evaluate(x_test, y_test)\n",
    "result"
   ]
  },
  {
   "cell_type": "raw",
   "id": "f451accf-8d08-49e2-9149-58d0717bff32",
   "metadata": {},
   "source": [
    "New Model having only 4 layer"
   ]
  },
  {
   "cell_type": "code",
   "execution_count": 28,
   "id": "47b4656d-e34a-423a-8138-46dc4a2f884b",
   "metadata": {},
   "outputs": [
    {
     "name": "stdout",
     "output_type": "stream",
     "text": [
      "Epoch 1/4\n",
      "\u001b[1m30/30\u001b[0m \u001b[32m━━━━━━━━━━━━━━━━━━━━\u001b[0m\u001b[37m\u001b[0m \u001b[1m2s\u001b[0m 31ms/step - accuracy: 0.6360 - loss: 0.6459 - val_accuracy: 0.8362 - val_loss: 0.4510\n",
      "Epoch 2/4\n",
      "\u001b[1m30/30\u001b[0m \u001b[32m━━━━━━━━━━━━━━━━━━━━\u001b[0m\u001b[37m\u001b[0m \u001b[1m0s\u001b[0m 13ms/step - accuracy: 0.8736 - loss: 0.3933 - val_accuracy: 0.8314 - val_loss: 0.3940\n",
      "Epoch 3/4\n",
      "\u001b[1m30/30\u001b[0m \u001b[32m━━━━━━━━━━━━━━━━━━━━\u001b[0m\u001b[37m\u001b[0m \u001b[1m0s\u001b[0m 13ms/step - accuracy: 0.9045 - loss: 0.2867 - val_accuracy: 0.8843 - val_loss: 0.2964\n",
      "Epoch 4/4\n",
      "\u001b[1m30/30\u001b[0m \u001b[32m━━━━━━━━━━━━━━━━━━━━\u001b[0m\u001b[37m\u001b[0m \u001b[1m0s\u001b[0m 14ms/step - accuracy: 0.9375 - loss: 0.2086 - val_accuracy: 0.8862 - val_loss: 0.2873\n",
      "\u001b[1m782/782\u001b[0m \u001b[32m━━━━━━━━━━━━━━━━━━━━\u001b[0m\u001b[37m\u001b[0m \u001b[1m1s\u001b[0m 1ms/step - accuracy: 0.8792 - loss: 0.2992\n"
     ]
    },
    {
     "data": {
      "text/plain": [
       "[0.2985627055168152, 0.8792799711227417]"
      ]
     },
     "execution_count": 28,
     "metadata": {},
     "output_type": "execute_result"
    }
   ],
   "source": [
    "model = keras.Sequential([\n",
    "    layers.Dense(units=16, activation=\"relu\"),\n",
    "    layers.Dense(units=16, activation=\"relu\"),\n",
    "    layers.Dense(units=16, activation=\"relu\"),\n",
    "    layers.Dense(units=1, activation=\"sigmoid\")\n",
    "])\n",
    "model.compile(\n",
    "    optimizer=\"rmsprop\",\n",
    "    loss=\"binary_crossentropy\",\n",
    "    metrics=[\"accuracy\"],\n",
    ")\n",
    "history = model.fit(x_train,y_train,epochs=4, batch_size=512, validation_data=(x_train_val, y_train_val))\n",
    "result = model.evaluate(x_test, y_test)\n",
    "result"
   ]
  },
  {
   "cell_type": "raw",
   "id": "4f3991e6-6cbf-4b0d-9dfe-f4e93dc73207",
   "metadata": {},
   "source": [
    "Model using 64 neurons"
   ]
  },
  {
   "cell_type": "code",
   "execution_count": 29,
   "id": "1c43879d-3855-4787-b63a-ea48fcbf9091",
   "metadata": {},
   "outputs": [
    {
     "name": "stdout",
     "output_type": "stream",
     "text": [
      "Epoch 1/4\n",
      "\u001b[1m30/30\u001b[0m \u001b[32m━━━━━━━━━━━━━━━━━━━━\u001b[0m\u001b[37m\u001b[0m \u001b[1m2s\u001b[0m 39ms/step - accuracy: 0.6733 - loss: 0.5976 - val_accuracy: 0.8538 - val_loss: 0.3744\n",
      "Epoch 2/4\n",
      "\u001b[1m30/30\u001b[0m \u001b[32m━━━━━━━━━━━━━━━━━━━━\u001b[0m\u001b[37m\u001b[0m \u001b[1m1s\u001b[0m 20ms/step - accuracy: 0.8865 - loss: 0.3198 - val_accuracy: 0.8702 - val_loss: 0.3149\n",
      "Epoch 3/4\n",
      "\u001b[1m30/30\u001b[0m \u001b[32m━━━━━━━━━━━━━━━━━━━━\u001b[0m\u001b[37m\u001b[0m \u001b[1m1s\u001b[0m 20ms/step - accuracy: 0.9122 - loss: 0.2367 - val_accuracy: 0.8721 - val_loss: 0.3121\n",
      "Epoch 4/4\n",
      "\u001b[1m30/30\u001b[0m \u001b[32m━━━━━━━━━━━━━━━━━━━━\u001b[0m\u001b[37m\u001b[0m \u001b[1m1s\u001b[0m 20ms/step - accuracy: 0.9385 - loss: 0.1846 - val_accuracy: 0.8863 - val_loss: 0.2815\n",
      "\u001b[1m782/782\u001b[0m \u001b[32m━━━━━━━━━━━━━━━━━━━━\u001b[0m\u001b[37m\u001b[0m \u001b[1m1s\u001b[0m 1ms/step - accuracy: 0.8763 - loss: 0.2991\n"
     ]
    },
    {
     "data": {
      "text/plain": [
       "[0.29834654927253723, 0.8783199787139893]"
      ]
     },
     "execution_count": 29,
     "metadata": {},
     "output_type": "execute_result"
    }
   ],
   "source": [
    "model = keras.Sequential([\n",
    "    layers.Dense(units=64, activation=\"relu\"),\n",
    "    layers.Dense(units=64, activation=\"relu\"),\n",
    "    layers.Dense(units=1, activation=\"sigmoid\")\n",
    "])\n",
    "model.compile(\n",
    "    optimizer=\"rmsprop\",\n",
    "    loss=\"binary_crossentropy\",\n",
    "    metrics=[\"accuracy\"],\n",
    ")\n",
    "history = model.fit(x_train,y_train,epochs=4, batch_size=512, validation_data=(x_train_val, y_train_val))\n",
    "result = model.evaluate(x_test, y_test)\n",
    "result"
   ]
  },
  {
   "cell_type": "raw",
   "id": "0ce22ae0-43c9-4283-8d0f-b104e297a54d",
   "metadata": {},
   "source": [
    "Model using 64 neurons"
   ]
  },
  {
   "cell_type": "code",
   "execution_count": 30,
   "id": "da335362-c09e-49a1-94c3-ba72b7cdc0d9",
   "metadata": {},
   "outputs": [
    {
     "name": "stdout",
     "output_type": "stream",
     "text": [
      "Epoch 1/4\n",
      "\u001b[1m30/30\u001b[0m \u001b[32m━━━━━━━━━━━━━━━━━━━━\u001b[0m\u001b[37m\u001b[0m \u001b[1m2s\u001b[0m 37ms/step - accuracy: 0.6892 - loss: 0.5773 - val_accuracy: 0.8556 - val_loss: 0.3712\n",
      "Epoch 2/4\n",
      "\u001b[1m30/30\u001b[0m \u001b[32m━━━━━━━━━━━━━━━━━━━━\u001b[0m\u001b[37m\u001b[0m \u001b[1m1s\u001b[0m 20ms/step - accuracy: 0.8849 - loss: 0.3209 - val_accuracy: 0.8686 - val_loss: 0.3285\n",
      "Epoch 3/4\n",
      "\u001b[1m30/30\u001b[0m \u001b[32m━━━━━━━━━━━━━━━━━━━━\u001b[0m\u001b[37m\u001b[0m \u001b[1m1s\u001b[0m 20ms/step - accuracy: 0.9198 - loss: 0.2413 - val_accuracy: 0.8836 - val_loss: 0.2887\n",
      "Epoch 4/4\n",
      "\u001b[1m30/30\u001b[0m \u001b[32m━━━━━━━━━━━━━━━━━━━━\u001b[0m\u001b[37m\u001b[0m \u001b[1m1s\u001b[0m 19ms/step - accuracy: 0.9293 - loss: 0.2051 - val_accuracy: 0.8757 - val_loss: 0.3084\n",
      "\u001b[1m782/782\u001b[0m \u001b[32m━━━━━━━━━━━━━━━━━━━━\u001b[0m\u001b[37m\u001b[0m \u001b[1m1s\u001b[0m 1ms/step - accuracy: 0.8648 - loss: 0.3240\n"
     ]
    },
    {
     "data": {
      "text/plain": [
       "[0.32520779967308044, 0.8653600215911865]"
      ]
     },
     "execution_count": 30,
     "metadata": {},
     "output_type": "execute_result"
    }
   ],
   "source": [
    "model = keras.Sequential([\n",
    "    layers.Dense(units=64, activation=\"relu\"),\n",
    "    layers.Dense(units=1, activation=\"sigmoid\")\n",
    "])\n",
    "model.compile(\n",
    "    optimizer=\"rmsprop\",\n",
    "    loss=\"binary_crossentropy\",\n",
    "    metrics=[\"accuracy\"],\n",
    ")\n",
    "history = model.fit(x_train,y_train,epochs=4, batch_size=512, validation_data=(x_train_val, y_train_val))\n",
    "result = model.evaluate(x_test, y_test)\n",
    "result"
   ]
  },
  {
   "cell_type": "raw",
   "id": "09417212-d6fb-4285-80c0-e81979862f47",
   "metadata": {},
   "source": [
    "using mse loss function"
   ]
  },
  {
   "cell_type": "code",
   "execution_count": 31,
   "id": "73ee5cbf-891f-46d7-b8fe-528de46e79ae",
   "metadata": {},
   "outputs": [
    {
     "name": "stdout",
     "output_type": "stream",
     "text": [
      "Epoch 1/4\n",
      "\u001b[1m30/30\u001b[0m \u001b[32m━━━━━━━━━━━━━━━━━━━━\u001b[0m\u001b[37m\u001b[0m \u001b[1m2s\u001b[0m 31ms/step - accuracy: 0.6992 - loss: 0.2092 - val_accuracy: 0.8308 - val_loss: 0.1414\n",
      "Epoch 2/4\n",
      "\u001b[1m30/30\u001b[0m \u001b[32m━━━━━━━━━━━━━━━━━━━━\u001b[0m\u001b[37m\u001b[0m \u001b[1m0s\u001b[0m 13ms/step - accuracy: 0.8853 - loss: 0.1147 - val_accuracy: 0.8478 - val_loss: 0.1176\n",
      "Epoch 3/4\n",
      "\u001b[1m30/30\u001b[0m \u001b[32m━━━━━━━━━━━━━━━━━━━━\u001b[0m\u001b[37m\u001b[0m \u001b[1m0s\u001b[0m 14ms/step - accuracy: 0.9094 - loss: 0.0847 - val_accuracy: 0.8846 - val_loss: 0.0937\n",
      "Epoch 4/4\n",
      "\u001b[1m30/30\u001b[0m \u001b[32m━━━━━━━━━━━━━━━━━━━━\u001b[0m\u001b[37m\u001b[0m \u001b[1m0s\u001b[0m 13ms/step - accuracy: 0.9280 - loss: 0.0678 - val_accuracy: 0.8888 - val_loss: 0.0865\n",
      "\u001b[1m782/782\u001b[0m \u001b[32m━━━━━━━━━━━━━━━━━━━━\u001b[0m\u001b[37m\u001b[0m \u001b[1m1s\u001b[0m 1ms/step - accuracy: 0.8824 - loss: 0.0907\n"
     ]
    },
    {
     "data": {
      "text/plain": [
       "[0.08976290374994278, 0.883840024471283]"
      ]
     },
     "execution_count": 31,
     "metadata": {},
     "output_type": "execute_result"
    }
   ],
   "source": [
    "model = keras.Sequential([\n",
    "    layers.Dense(units=16, activation=\"relu\"),\n",
    "    layers.Dense(units=16, activation=\"relu\"),\n",
    "    layers.Dense(units=1, activation=\"sigmoid\")\n",
    "])\n",
    "model.compile(\n",
    "    optimizer=\"rmsprop\",\n",
    "    loss=\"mse\",\n",
    "    metrics=[\"accuracy\"],\n",
    ")\n",
    "history = model.fit(x_train,y_train,epochs=4, batch_size=512, validation_data=(x_train_val, y_train_val))\n",
    "result = model.evaluate(x_test, y_test)\n",
    "result"
   ]
  },
  {
   "cell_type": "raw",
   "id": "03f81751-b5bd-4ff2-9418-96cc0189895d",
   "metadata": {},
   "source": [
    "using tanh activation function"
   ]
  },
  {
   "cell_type": "code",
   "execution_count": 32,
   "id": "22b6653a-b741-4849-9f92-36389a37d7c0",
   "metadata": {},
   "outputs": [
    {
     "name": "stdout",
     "output_type": "stream",
     "text": [
      "Epoch 1/4\n",
      "\u001b[1m30/30\u001b[0m \u001b[32m━━━━━━━━━━━━━━━━━━━━\u001b[0m\u001b[37m\u001b[0m \u001b[1m2s\u001b[0m 31ms/step - accuracy: 0.7025 - loss: 0.5615 - val_accuracy: 0.8719 - val_loss: 0.3529\n",
      "Epoch 2/4\n",
      "\u001b[1m30/30\u001b[0m \u001b[32m━━━━━━━━━━━━━━━━━━━━\u001b[0m\u001b[37m\u001b[0m \u001b[1m0s\u001b[0m 14ms/step - accuracy: 0.8914 - loss: 0.3080 - val_accuracy: 0.8707 - val_loss: 0.3111\n",
      "Epoch 3/4\n",
      "\u001b[1m30/30\u001b[0m \u001b[32m━━━━━━━━━━━━━━━━━━━━\u001b[0m\u001b[37m\u001b[0m \u001b[1m0s\u001b[0m 13ms/step - accuracy: 0.9298 - loss: 0.2064 - val_accuracy: 0.8863 - val_loss: 0.2774\n",
      "Epoch 4/4\n",
      "\u001b[1m30/30\u001b[0m \u001b[32m━━━━━━━━━━━━━━━━━━━━\u001b[0m\u001b[37m\u001b[0m \u001b[1m0s\u001b[0m 13ms/step - accuracy: 0.9501 - loss: 0.1546 - val_accuracy: 0.8830 - val_loss: 0.2930\n",
      "\u001b[1m782/782\u001b[0m \u001b[32m━━━━━━━━━━━━━━━━━━━━\u001b[0m\u001b[37m\u001b[0m \u001b[1m1s\u001b[0m 1ms/step - accuracy: 0.8742 - loss: 0.3098\n"
     ]
    },
    {
     "data": {
      "text/plain": [
       "[0.3064170181751251, 0.8769999742507935]"
      ]
     },
     "execution_count": 32,
     "metadata": {},
     "output_type": "execute_result"
    }
   ],
   "source": [
    "model = keras.Sequential([\n",
    "    layers.Dense(units=16, activation=\"tanh\"),\n",
    "    layers.Dense(units=16, activation=\"tanh\"),\n",
    "    layers.Dense(units=1, activation=\"sigmoid\")\n",
    "])\n",
    "model.compile(\n",
    "    optimizer=\"rmsprop\",\n",
    "    loss=\"binary_crossentropy\",\n",
    "    metrics=[\"accuracy\"],\n",
    ")\n",
    "history = model.fit(x_train,y_train,epochs=4, batch_size=512, validation_data=(x_train_val, y_train_val))\n",
    "result = model.evaluate(x_test, y_test)\n",
    "result"
   ]
  },
  {
   "cell_type": "code",
   "execution_count": null,
   "id": "a3a734fb-e430-4df1-9672-f123a0ee6502",
   "metadata": {},
   "outputs": [],
   "source": []
  },
  {
   "cell_type": "code",
   "execution_count": 34,
   "id": "44c74ae7-511d-4075-91e8-1c451c4dd463",
   "metadata": {},
   "outputs": [
    {
     "name": "stdout",
     "output_type": "stream",
     "text": [
      "Epoch 1/4\n",
      "\u001b[1m30/30\u001b[0m \u001b[32m━━━━━━━━━━━━━━━━━━━━\u001b[0m\u001b[37m\u001b[0m \u001b[1m1s\u001b[0m 29ms/step - accuracy: 0.7126 - loss: 0.5956 - val_accuracy: 0.8657 - val_loss: 0.4055\n",
      "Epoch 2/4\n",
      "\u001b[1m30/30\u001b[0m \u001b[32m━━━━━━━━━━━━━━━━━━━━\u001b[0m\u001b[37m\u001b[0m \u001b[1m0s\u001b[0m 13ms/step - accuracy: 0.8941 - loss: 0.3452 - val_accuracy: 0.8575 - val_loss: 0.3445\n",
      "Epoch 3/4\n",
      "\u001b[1m30/30\u001b[0m \u001b[32m━━━━━━━━━━━━━━━━━━━━\u001b[0m\u001b[37m\u001b[0m \u001b[1m0s\u001b[0m 13ms/step - accuracy: 0.9246 - loss: 0.2425 - val_accuracy: 0.8875 - val_loss: 0.2826\n",
      "Epoch 4/4\n",
      "\u001b[1m30/30\u001b[0m \u001b[32m━━━━━━━━━━━━━━━━━━━━\u001b[0m\u001b[37m\u001b[0m \u001b[1m0s\u001b[0m 13ms/step - accuracy: 0.9359 - loss: 0.1939 - val_accuracy: 0.8866 - val_loss: 0.2786\n",
      "\u001b[1m782/782\u001b[0m \u001b[32m━━━━━━━━━━━━━━━━━━━━\u001b[0m\u001b[37m\u001b[0m \u001b[1m1s\u001b[0m 1ms/step - accuracy: 0.8792 - loss: 0.2947\n"
     ]
    },
    {
     "data": {
      "text/plain": [
       "[0.29258257150650024, 0.8813199996948242]"
      ]
     },
     "execution_count": 34,
     "metadata": {},
     "output_type": "execute_result"
    }
   ],
   "source": [
    "model = keras.Sequential([\n",
    "    layers.Dense(units=16, activation=\"leaky_relu\"),\n",
    "    layers.Dense(units=16, activation=\"leaky_relu\"),\n",
    "    layers.Dense(units=1, activation=\"sigmoid\")\n",
    "])\n",
    "model.compile(\n",
    "    optimizer=\"rmsprop\",\n",
    "    loss=\"binary_crossentropy\",\n",
    "    metrics=[\"accuracy\"],\n",
    ")\n",
    "history = model.fit(x_train,y_train,epochs=4, batch_size=512, validation_data=(x_train_val, y_train_val))\n",
    "result = model.evaluate(x_test, y_test)\n",
    "result"
   ]
  },
  {
   "cell_type": "code",
   "execution_count": null,
   "id": "6c54a2ef-633e-4a06-bc03-b23a3a4f5c93",
   "metadata": {},
   "outputs": [],
   "source": []
  }
 ],
 "metadata": {
  "kernelspec": {
   "display_name": "Python 3 (ipykernel)",
   "language": "python",
   "name": "python3"
  },
  "language_info": {
   "codemirror_mode": {
    "name": "ipython",
    "version": 3
   },
   "file_extension": ".py",
   "mimetype": "text/x-python",
   "name": "python",
   "nbconvert_exporter": "python",
   "pygments_lexer": "ipython3",
   "version": "3.12.3"
  }
 },
 "nbformat": 4,
 "nbformat_minor": 5
}
